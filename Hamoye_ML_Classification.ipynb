{
  "nbformat": 4,
  "nbformat_minor": 0,
  "metadata": {
    "colab": {
      "name": "Hamoye ML - Classification.ipynb",
      "provenance": [],
      "authorship_tag": "ABX9TyNmATwvSbg9LDbTV3HBwriT",
      "include_colab_link": true
    },
    "kernelspec": {
      "name": "python3",
      "display_name": "Python 3"
    }
  },
  "cells": [
    {
      "cell_type": "markdown",
      "metadata": {
        "id": "view-in-github",
        "colab_type": "text"
      },
      "source": [
        "<a href=\"https://colab.research.google.com/github/sumusa/Hamoye-Internship-Notes/blob/master/Hamoye_ML_Classification.ipynb\" target=\"_parent\"><img src=\"https://colab.research.google.com/assets/colab-badge.svg\" alt=\"Open In Colab\"/></a>"
      ]
    },
    {
      "cell_type": "code",
      "metadata": {
        "id": "pxxJgYL0op6t",
        "colab_type": "code",
        "colab": {
          "base_uri": "https://localhost:8080/",
          "height": 258
        },
        "outputId": "169bbd8d-71f6-4746-a146-bebe9e349353"
      },
      "source": [
        "import pandas as pd\n",
        "df = pd.read_csv('https://query.data.world/s/k6xntqgkrrcf5x4xibgciwwn5ejumd')\n",
        "df.head()"
      ],
      "execution_count": 2,
      "outputs": [
        {
          "output_type": "stream",
          "text": [
            "/usr/local/lib/python3.6/dist-packages/IPython/core/interactiveshell.py:2718: DtypeWarning: Columns (6) have mixed types.Specify dtype option on import or set low_memory=False.\n",
            "  interactivity=interactivity, compiler=compiler, result=result)\n"
          ],
          "name": "stderr"
        },
        {
          "output_type": "execute_result",
          "data": {
            "text/html": [
              "<div>\n",
              "<style scoped>\n",
              "    .dataframe tbody tr th:only-of-type {\n",
              "        vertical-align: middle;\n",
              "    }\n",
              "\n",
              "    .dataframe tbody tr th {\n",
              "        vertical-align: top;\n",
              "    }\n",
              "\n",
              "    .dataframe thead th {\n",
              "        text-align: right;\n",
              "    }\n",
              "</style>\n",
              "<table border=\"1\" class=\"dataframe\">\n",
              "  <thead>\n",
              "    <tr style=\"text-align: right;\">\n",
              "      <th></th>\n",
              "      <th>country</th>\n",
              "      <th>year</th>\n",
              "      <th>country_code</th>\n",
              "      <th>record</th>\n",
              "      <th>crop_land</th>\n",
              "      <th>grazing_land</th>\n",
              "      <th>forest_land</th>\n",
              "      <th>fishing_ground</th>\n",
              "      <th>built_up_land</th>\n",
              "      <th>carbon</th>\n",
              "      <th>total</th>\n",
              "      <th>QScore</th>\n",
              "    </tr>\n",
              "  </thead>\n",
              "  <tbody>\n",
              "    <tr>\n",
              "      <th>0</th>\n",
              "      <td>Armenia</td>\n",
              "      <td>1992</td>\n",
              "      <td>1</td>\n",
              "      <td>AreaPerCap</td>\n",
              "      <td>0.140292</td>\n",
              "      <td>0.199546</td>\n",
              "      <td>0.097188051</td>\n",
              "      <td>0.036888</td>\n",
              "      <td>0.029320</td>\n",
              "      <td>0.000000</td>\n",
              "      <td>5.032351e-01</td>\n",
              "      <td>3A</td>\n",
              "    </tr>\n",
              "    <tr>\n",
              "      <th>1</th>\n",
              "      <td>Armenia</td>\n",
              "      <td>1992</td>\n",
              "      <td>1</td>\n",
              "      <td>AreaTotHA</td>\n",
              "      <td>483000.000000</td>\n",
              "      <td>687000.000000</td>\n",
              "      <td>334600</td>\n",
              "      <td>127000.000000</td>\n",
              "      <td>100943.000800</td>\n",
              "      <td>0.000000</td>\n",
              "      <td>1.732543e+06</td>\n",
              "      <td>3A</td>\n",
              "    </tr>\n",
              "    <tr>\n",
              "      <th>2</th>\n",
              "      <td>Armenia</td>\n",
              "      <td>1992</td>\n",
              "      <td>1</td>\n",
              "      <td>BiocapPerCap</td>\n",
              "      <td>0.159804</td>\n",
              "      <td>0.135261</td>\n",
              "      <td>0.084003213</td>\n",
              "      <td>0.013742</td>\n",
              "      <td>0.033398</td>\n",
              "      <td>0.000000</td>\n",
              "      <td>4.262086e-01</td>\n",
              "      <td>3A</td>\n",
              "    </tr>\n",
              "    <tr>\n",
              "      <th>3</th>\n",
              "      <td>Armenia</td>\n",
              "      <td>1992</td>\n",
              "      <td>1</td>\n",
              "      <td>BiocapTotGHA</td>\n",
              "      <td>550176.242700</td>\n",
              "      <td>465677.972200</td>\n",
              "      <td>289207.1078</td>\n",
              "      <td>47311.551720</td>\n",
              "      <td>114982.279300</td>\n",
              "      <td>0.000000</td>\n",
              "      <td>1.467355e+06</td>\n",
              "      <td>3A</td>\n",
              "    </tr>\n",
              "    <tr>\n",
              "      <th>4</th>\n",
              "      <td>Armenia</td>\n",
              "      <td>1992</td>\n",
              "      <td>1</td>\n",
              "      <td>EFConsPerCap</td>\n",
              "      <td>0.387510</td>\n",
              "      <td>0.189462</td>\n",
              "      <td>1.26E-06</td>\n",
              "      <td>0.004165</td>\n",
              "      <td>0.033398</td>\n",
              "      <td>1.114093</td>\n",
              "      <td>1.728629e+00</td>\n",
              "      <td>3A</td>\n",
              "    </tr>\n",
              "  </tbody>\n",
              "</table>\n",
              "</div>"
            ],
            "text/plain": [
              "   country  year  country_code  ...    carbon         total  QScore\n",
              "0  Armenia  1992             1  ...  0.000000  5.032351e-01      3A\n",
              "1  Armenia  1992             1  ...  0.000000  1.732543e+06      3A\n",
              "2  Armenia  1992             1  ...  0.000000  4.262086e-01      3A\n",
              "3  Armenia  1992             1  ...  0.000000  1.467355e+06      3A\n",
              "4  Armenia  1992             1  ...  1.114093  1.728629e+00      3A\n",
              "\n",
              "[5 rows x 12 columns]"
            ]
          },
          "metadata": {
            "tags": []
          },
          "execution_count": 2
        }
      ]
    },
    {
      "cell_type": "code",
      "metadata": {
        "id": "m-yKbDE3paNq",
        "colab_type": "code",
        "colab": {
          "base_uri": "https://localhost:8080/",
          "height": 119
        },
        "outputId": "5134fce0-e38e-4623-989c-41a95c81f512"
      },
      "source": [
        "df['QScore'].value_counts()"
      ],
      "execution_count": 4,
      "outputs": [
        {
          "output_type": "execute_result",
          "data": {
            "text/plain": [
              "3A    51481\n",
              "2A    10576\n",
              "2B    10096\n",
              "1A       16\n",
              "1B       16\n",
              "Name: QScore, dtype: int64"
            ]
          },
          "metadata": {
            "tags": []
          },
          "execution_count": 4
        }
      ]
    },
    {
      "cell_type": "code",
      "metadata": {
        "id": "niGBtSc_qzgq",
        "colab_type": "code",
        "colab": {
          "base_uri": "https://localhost:8080/",
          "height": 238
        },
        "outputId": "efad865a-d248-4e89-b2c2-c75c65fa53c7"
      },
      "source": [
        "df.isna().sum()"
      ],
      "execution_count": 5,
      "outputs": [
        {
          "output_type": "execute_result",
          "data": {
            "text/plain": [
              "country               0\n",
              "year                  0\n",
              "country_code          0\n",
              "record                0\n",
              "crop_land         20472\n",
              "grazing_land      20472\n",
              "forest_land       20472\n",
              "fishing_ground    20473\n",
              "built_up_land     20473\n",
              "carbon            20473\n",
              "total                 9\n",
              "QScore                1\n",
              "dtype: int64"
            ]
          },
          "metadata": {
            "tags": []
          },
          "execution_count": 5
        }
      ]
    },
    {
      "cell_type": "code",
      "metadata": {
        "id": "kjn8xtiWq-GA",
        "colab_type": "code",
        "colab": {}
      },
      "source": [
        "df =df.dropna()"
      ],
      "execution_count": 6,
      "outputs": []
    },
    {
      "cell_type": "code",
      "metadata": {
        "id": "3QiuqzTmrJKQ",
        "colab_type": "code",
        "colab": {
          "base_uri": "https://localhost:8080/",
          "height": 238
        },
        "outputId": "0d8e30b5-b423-4b64-aeda-30562f13261f"
      },
      "source": [
        "df.isna().sum()"
      ],
      "execution_count": 7,
      "outputs": [
        {
          "output_type": "execute_result",
          "data": {
            "text/plain": [
              "country           0\n",
              "year              0\n",
              "country_code      0\n",
              "record            0\n",
              "crop_land         0\n",
              "grazing_land      0\n",
              "forest_land       0\n",
              "fishing_ground    0\n",
              "built_up_land     0\n",
              "carbon            0\n",
              "total             0\n",
              "QScore            0\n",
              "dtype: int64"
            ]
          },
          "metadata": {
            "tags": []
          },
          "execution_count": 7
        }
      ]
    },
    {
      "cell_type": "code",
      "metadata": {
        "id": "M3ZyPPsJrMOK",
        "colab_type": "code",
        "colab": {
          "base_uri": "https://localhost:8080/",
          "height": 85
        },
        "outputId": "8981e360-588c-4cb4-edef-30b3f2b6c668"
      },
      "source": [
        "df['QScore'].value_counts()"
      ],
      "execution_count": 8,
      "outputs": [
        {
          "output_type": "execute_result",
          "data": {
            "text/plain": [
              "3A    51473\n",
              "2A      224\n",
              "1A       16\n",
              "Name: QScore, dtype: int64"
            ]
          },
          "metadata": {
            "tags": []
          },
          "execution_count": 8
        }
      ]
    },
    {
      "cell_type": "code",
      "metadata": {
        "id": "SDAzyQM6rZ55",
        "colab_type": "code",
        "colab": {
          "base_uri": "https://localhost:8080/",
          "height": 170
        },
        "outputId": "6672987a-c7bc-4852-ef79-0dbcf41b5b56"
      },
      "source": [
        "df['QScore'] = df['QScore'].replace(['1A'], '2A')\n",
        "df.QScore.value_counts()"
      ],
      "execution_count": 9,
      "outputs": [
        {
          "output_type": "stream",
          "text": [
            "/usr/local/lib/python3.6/dist-packages/ipykernel_launcher.py:1: SettingWithCopyWarning: \n",
            "A value is trying to be set on a copy of a slice from a DataFrame.\n",
            "Try using .loc[row_indexer,col_indexer] = value instead\n",
            "\n",
            "See the caveats in the documentation: https://pandas.pydata.org/pandas-docs/stable/user_guide/indexing.html#returning-a-view-versus-a-copy\n",
            "  \"\"\"Entry point for launching an IPython kernel.\n"
          ],
          "name": "stderr"
        },
        {
          "output_type": "execute_result",
          "data": {
            "text/plain": [
              "3A    51473\n",
              "2A      240\n",
              "Name: QScore, dtype: int64"
            ]
          },
          "metadata": {
            "tags": []
          },
          "execution_count": 9
        }
      ]
    },
    {
      "cell_type": "code",
      "metadata": {
        "id": "5VvDN340sCEl",
        "colab_type": "code",
        "colab": {}
      },
      "source": [
        "df_2A = df[df.QScore=='2A']\n",
        "df_3A = df[df.QScore=='3A'].sample(350)\n",
        "data_df = df_2A.append(df_3A)"
      ],
      "execution_count": 10,
      "outputs": []
    },
    {
      "cell_type": "code",
      "metadata": {
        "id": "KCvDWQUNsOvJ",
        "colab_type": "code",
        "colab": {
          "base_uri": "https://localhost:8080/",
          "height": 68
        },
        "outputId": "bb0bd3e7-3f3f-4253-849d-0b9b07db28ad"
      },
      "source": [
        "import sklearn.utils\n",
        "data_df = sklearn.utils.shuffle(data_df)\n",
        "data_df = data_df.reset_index(drop=True)\n",
        "data_df.QScore.value_counts()"
      ],
      "execution_count": 11,
      "outputs": [
        {
          "output_type": "execute_result",
          "data": {
            "text/plain": [
              "3A    350\n",
              "2A    240\n",
              "Name: QScore, dtype: int64"
            ]
          },
          "metadata": {
            "tags": []
          },
          "execution_count": 11
        }
      ]
    },
    {
      "cell_type": "code",
      "metadata": {
        "id": "4JGwuuL0sYvn",
        "colab_type": "code",
        "colab": {
          "base_uri": "https://localhost:8080/",
          "height": 34
        },
        "outputId": "9e02490f-6c71-4046-aa70-13896b3d93cc"
      },
      "source": [
        "data_df.shape"
      ],
      "execution_count": 12,
      "outputs": [
        {
          "output_type": "execute_result",
          "data": {
            "text/plain": [
              "(590, 12)"
            ]
          },
          "metadata": {
            "tags": []
          },
          "execution_count": 12
        }
      ]
    },
    {
      "cell_type": "code",
      "metadata": {
        "id": "ItDyMf1Xsd65",
        "colab_type": "code",
        "colab": {
          "base_uri": "https://localhost:8080/",
          "height": 204
        },
        "outputId": "79614756-584d-4913-b388-febf1dad36ea"
      },
      "source": [
        "data_df.head()"
      ],
      "execution_count": 13,
      "outputs": [
        {
          "output_type": "execute_result",
          "data": {
            "text/html": [
              "<div>\n",
              "<style scoped>\n",
              "    .dataframe tbody tr th:only-of-type {\n",
              "        vertical-align: middle;\n",
              "    }\n",
              "\n",
              "    .dataframe tbody tr th {\n",
              "        vertical-align: top;\n",
              "    }\n",
              "\n",
              "    .dataframe thead th {\n",
              "        text-align: right;\n",
              "    }\n",
              "</style>\n",
              "<table border=\"1\" class=\"dataframe\">\n",
              "  <thead>\n",
              "    <tr style=\"text-align: right;\">\n",
              "      <th></th>\n",
              "      <th>country</th>\n",
              "      <th>year</th>\n",
              "      <th>country_code</th>\n",
              "      <th>record</th>\n",
              "      <th>crop_land</th>\n",
              "      <th>grazing_land</th>\n",
              "      <th>forest_land</th>\n",
              "      <th>fishing_ground</th>\n",
              "      <th>built_up_land</th>\n",
              "      <th>carbon</th>\n",
              "      <th>total</th>\n",
              "      <th>QScore</th>\n",
              "    </tr>\n",
              "  </thead>\n",
              "  <tbody>\n",
              "    <tr>\n",
              "      <th>0</th>\n",
              "      <td>Eswatini</td>\n",
              "      <td>2016</td>\n",
              "      <td>209</td>\n",
              "      <td>AreaPerCap</td>\n",
              "      <td>1.414638e-01</td>\n",
              "      <td>7.683717e-01</td>\n",
              "      <td>0.439728993</td>\n",
              "      <td>1.191274e-02</td>\n",
              "      <td>3.956779e-02</td>\n",
              "      <td>0.000000e+00</td>\n",
              "      <td>1.401045e+00</td>\n",
              "      <td>2A</td>\n",
              "    </tr>\n",
              "    <tr>\n",
              "      <th>1</th>\n",
              "      <td>Morocco</td>\n",
              "      <td>2016</td>\n",
              "      <td>143</td>\n",
              "      <td>EFProdPerCap</td>\n",
              "      <td>2.472755e-01</td>\n",
              "      <td>1.594244e-01</td>\n",
              "      <td>0.081102108</td>\n",
              "      <td>1.414319e-01</td>\n",
              "      <td>2.619654e-02</td>\n",
              "      <td>5.831323e-01</td>\n",
              "      <td>1.238563e+00</td>\n",
              "      <td>2A</td>\n",
              "    </tr>\n",
              "    <tr>\n",
              "      <th>2</th>\n",
              "      <td>Finland</td>\n",
              "      <td>2016</td>\n",
              "      <td>67</td>\n",
              "      <td>EFConsTotGHA</td>\n",
              "      <td>4.481128e+06</td>\n",
              "      <td>8.560559e+05</td>\n",
              "      <td>4063369.667</td>\n",
              "      <td>1.251413e+06</td>\n",
              "      <td>7.446472e+05</td>\n",
              "      <td>2.303562e+07</td>\n",
              "      <td>3.443224e+07</td>\n",
              "      <td>2A</td>\n",
              "    </tr>\n",
              "    <tr>\n",
              "      <th>3</th>\n",
              "      <td>Papua New Guinea</td>\n",
              "      <td>2016</td>\n",
              "      <td>168</td>\n",
              "      <td>EFProdTotGHA</td>\n",
              "      <td>3.231312e+06</td>\n",
              "      <td>1.344983e+03</td>\n",
              "      <td>4956688.39</td>\n",
              "      <td>8.029091e+06</td>\n",
              "      <td>1.303392e+06</td>\n",
              "      <td>2.051369e+06</td>\n",
              "      <td>1.957320e+07</td>\n",
              "      <td>2A</td>\n",
              "    </tr>\n",
              "    <tr>\n",
              "      <th>4</th>\n",
              "      <td>Niger</td>\n",
              "      <td>1962</td>\n",
              "      <td>158</td>\n",
              "      <td>EFProdTotGHA</td>\n",
              "      <td>2.274180e+06</td>\n",
              "      <td>4.746980e+06</td>\n",
              "      <td>968519.6118</td>\n",
              "      <td>9.656566e+03</td>\n",
              "      <td>2.793801e+04</td>\n",
              "      <td>1.909141e+04</td>\n",
              "      <td>8.046365e+06</td>\n",
              "      <td>3A</td>\n",
              "    </tr>\n",
              "  </tbody>\n",
              "</table>\n",
              "</div>"
            ],
            "text/plain": [
              "            country  year  country_code  ...        carbon         total  QScore\n",
              "0          Eswatini  2016           209  ...  0.000000e+00  1.401045e+00      2A\n",
              "1           Morocco  2016           143  ...  5.831323e-01  1.238563e+00      2A\n",
              "2           Finland  2016            67  ...  2.303562e+07  3.443224e+07      2A\n",
              "3  Papua New Guinea  2016           168  ...  2.051369e+06  1.957320e+07      2A\n",
              "4             Niger  1962           158  ...  1.909141e+04  8.046365e+06      3A\n",
              "\n",
              "[5 rows x 12 columns]"
            ]
          },
          "metadata": {
            "tags": []
          },
          "execution_count": 13
        }
      ]
    },
    {
      "cell_type": "code",
      "metadata": {
        "id": "3ySU0biWsj-Z",
        "colab_type": "code",
        "colab": {
          "base_uri": "https://localhost:8080/",
          "height": 204
        },
        "outputId": "10f47872-f4fe-439c-f647-9ff24dca73fc"
      },
      "source": [
        "data_df = data_df.drop(columns=['country_code', 'country', 'year'])\n",
        "data_df.head()"
      ],
      "execution_count": 14,
      "outputs": [
        {
          "output_type": "execute_result",
          "data": {
            "text/html": [
              "<div>\n",
              "<style scoped>\n",
              "    .dataframe tbody tr th:only-of-type {\n",
              "        vertical-align: middle;\n",
              "    }\n",
              "\n",
              "    .dataframe tbody tr th {\n",
              "        vertical-align: top;\n",
              "    }\n",
              "\n",
              "    .dataframe thead th {\n",
              "        text-align: right;\n",
              "    }\n",
              "</style>\n",
              "<table border=\"1\" class=\"dataframe\">\n",
              "  <thead>\n",
              "    <tr style=\"text-align: right;\">\n",
              "      <th></th>\n",
              "      <th>record</th>\n",
              "      <th>crop_land</th>\n",
              "      <th>grazing_land</th>\n",
              "      <th>forest_land</th>\n",
              "      <th>fishing_ground</th>\n",
              "      <th>built_up_land</th>\n",
              "      <th>carbon</th>\n",
              "      <th>total</th>\n",
              "      <th>QScore</th>\n",
              "    </tr>\n",
              "  </thead>\n",
              "  <tbody>\n",
              "    <tr>\n",
              "      <th>0</th>\n",
              "      <td>AreaPerCap</td>\n",
              "      <td>1.414638e-01</td>\n",
              "      <td>7.683717e-01</td>\n",
              "      <td>0.439728993</td>\n",
              "      <td>1.191274e-02</td>\n",
              "      <td>3.956779e-02</td>\n",
              "      <td>0.000000e+00</td>\n",
              "      <td>1.401045e+00</td>\n",
              "      <td>2A</td>\n",
              "    </tr>\n",
              "    <tr>\n",
              "      <th>1</th>\n",
              "      <td>EFProdPerCap</td>\n",
              "      <td>2.472755e-01</td>\n",
              "      <td>1.594244e-01</td>\n",
              "      <td>0.081102108</td>\n",
              "      <td>1.414319e-01</td>\n",
              "      <td>2.619654e-02</td>\n",
              "      <td>5.831323e-01</td>\n",
              "      <td>1.238563e+00</td>\n",
              "      <td>2A</td>\n",
              "    </tr>\n",
              "    <tr>\n",
              "      <th>2</th>\n",
              "      <td>EFConsTotGHA</td>\n",
              "      <td>4.481128e+06</td>\n",
              "      <td>8.560559e+05</td>\n",
              "      <td>4063369.667</td>\n",
              "      <td>1.251413e+06</td>\n",
              "      <td>7.446472e+05</td>\n",
              "      <td>2.303562e+07</td>\n",
              "      <td>3.443224e+07</td>\n",
              "      <td>2A</td>\n",
              "    </tr>\n",
              "    <tr>\n",
              "      <th>3</th>\n",
              "      <td>EFProdTotGHA</td>\n",
              "      <td>3.231312e+06</td>\n",
              "      <td>1.344983e+03</td>\n",
              "      <td>4956688.39</td>\n",
              "      <td>8.029091e+06</td>\n",
              "      <td>1.303392e+06</td>\n",
              "      <td>2.051369e+06</td>\n",
              "      <td>1.957320e+07</td>\n",
              "      <td>2A</td>\n",
              "    </tr>\n",
              "    <tr>\n",
              "      <th>4</th>\n",
              "      <td>EFProdTotGHA</td>\n",
              "      <td>2.274180e+06</td>\n",
              "      <td>4.746980e+06</td>\n",
              "      <td>968519.6118</td>\n",
              "      <td>9.656566e+03</td>\n",
              "      <td>2.793801e+04</td>\n",
              "      <td>1.909141e+04</td>\n",
              "      <td>8.046365e+06</td>\n",
              "      <td>3A</td>\n",
              "    </tr>\n",
              "  </tbody>\n",
              "</table>\n",
              "</div>"
            ],
            "text/plain": [
              "         record     crop_land  grazing_land  ...        carbon         total  QScore\n",
              "0    AreaPerCap  1.414638e-01  7.683717e-01  ...  0.000000e+00  1.401045e+00      2A\n",
              "1  EFProdPerCap  2.472755e-01  1.594244e-01  ...  5.831323e-01  1.238563e+00      2A\n",
              "2  EFConsTotGHA  4.481128e+06  8.560559e+05  ...  2.303562e+07  3.443224e+07      2A\n",
              "3  EFProdTotGHA  3.231312e+06  1.344983e+03  ...  2.051369e+06  1.957320e+07      2A\n",
              "4  EFProdTotGHA  2.274180e+06  4.746980e+06  ...  1.909141e+04  8.046365e+06      3A\n",
              "\n",
              "[5 rows x 9 columns]"
            ]
          },
          "metadata": {
            "tags": []
          },
          "execution_count": 14
        }
      ]
    },
    {
      "cell_type": "code",
      "metadata": {
        "id": "o-zcBe-IstYh",
        "colab_type": "code",
        "colab": {}
      },
      "source": [
        "x = data_df.drop(columns='QScore')\n",
        "y = data_df['QScore']"
      ],
      "execution_count": 15,
      "outputs": []
    },
    {
      "cell_type": "code",
      "metadata": {
        "id": "ZPPyuKs6s0Sl",
        "colab_type": "code",
        "colab": {
          "base_uri": "https://localhost:8080/",
          "height": 68
        },
        "outputId": "654c45d1-4f72-481d-9bb7-b2c13bb92015"
      },
      "source": [
        "#split the data into training and testing sets\n",
        "from sklearn.model_selection import train_test_split\n",
        "x_train, x_test, y_train, y_test = train_test_split(x, y, test_size=0.3, random_state=0)\n",
        "y_train.value_counts()"
      ],
      "execution_count": 16,
      "outputs": [
        {
          "output_type": "execute_result",
          "data": {
            "text/plain": [
              "3A    246\n",
              "2A    167\n",
              "Name: QScore, dtype: int64"
            ]
          },
          "metadata": {
            "tags": []
          },
          "execution_count": 16
        }
      ]
    },
    {
      "cell_type": "code",
      "metadata": {
        "id": "5-ZA5_cotACS",
        "colab_type": "code",
        "colab": {
          "base_uri": "https://localhost:8080/",
          "height": 119
        },
        "outputId": "73a21e80-a88a-4ea4-f922-3667995cc4c4"
      },
      "source": [
        "#encode categorical variable\n",
        "from sklearn.preprocessing import LabelEncoder\n",
        "encoder = LabelEncoder()\n",
        "x_train.record = encoder.fit_transform(x_train.record)\n",
        "x_test.record = encoder.transform(x_test.record)"
      ],
      "execution_count": 17,
      "outputs": [
        {
          "output_type": "stream",
          "text": [
            "/usr/local/lib/python3.6/dist-packages/pandas/core/generic.py:5303: SettingWithCopyWarning: \n",
            "A value is trying to be set on a copy of a slice from a DataFrame.\n",
            "Try using .loc[row_indexer,col_indexer] = value instead\n",
            "\n",
            "See the caveats in the documentation: https://pandas.pydata.org/pandas-docs/stable/user_guide/indexing.html#returning-a-view-versus-a-copy\n",
            "  self[name] = value\n"
          ],
          "name": "stderr"
        }
      ]
    },
    {
      "cell_type": "code",
      "metadata": {
        "id": "tiRUw04-uNbB",
        "colab_type": "code",
        "colab": {
          "base_uri": "https://localhost:8080/",
          "height": 71
        },
        "outputId": "d6d21ba4-c44c-47ee-8729-7ca32fc7a27c"
      },
      "source": [
        "import imblearn\n",
        "from imblearn.over_sampling import SMOTE\n",
        "smote = SMOTE(random_state=1)\n",
        "x_train_balanced, y_balanced = smote.fit_sample(x_train, y_train)\n",
        "x_train_balanced = pd.DataFrame(x_train_balanced, columns=x_train.columns)"
      ],
      "execution_count": 23,
      "outputs": [
        {
          "output_type": "stream",
          "text": [
            "/usr/local/lib/python3.6/dist-packages/sklearn/utils/deprecation.py:87: FutureWarning: Function safe_indexing is deprecated; safe_indexing is deprecated in version 0.22 and will be removed in version 0.24.\n",
            "  warnings.warn(msg, category=FutureWarning)\n"
          ],
          "name": "stderr"
        }
      ]
    },
    {
      "cell_type": "code",
      "metadata": {
        "id": "yXVzcG8nuk7v",
        "colab_type": "code",
        "colab": {}
      },
      "source": [
        "from sklearn.preprocessing import MinMaxScaler\n",
        "scaler = MinMaxScaler()\n",
        "normalised_train_df = scaler.fit_transform(x_train_balanced.drop(columns=['record']))\n",
        "normalised_train_df = pd.DataFrame(normalised_train_df, columns=x_train_balanced.drop(columns=['record']).columns)\n",
        "normalised_train_df['record'] = x_train_balanced['record']"
      ],
      "execution_count": 24,
      "outputs": []
    },
    {
      "cell_type": "code",
      "metadata": {
        "id": "t3aOnr1ku6eX",
        "colab_type": "code",
        "colab": {}
      },
      "source": [
        "x_test = x_test.reset_index(drop=True)\n",
        "normalised_test_df = scaler.transform(x_test.drop(columns=['record']))\n",
        "normalised_test_df = pd.DataFrame(normalised_test_df, columns=x_test.drop(columns=['record']).columns)\n",
        "normalised_test_df['record'] = x_test['record']"
      ],
      "execution_count": 25,
      "outputs": []
    },
    {
      "cell_type": "code",
      "metadata": {
        "id": "iraledJKv7oP",
        "colab_type": "code",
        "colab": {
          "base_uri": "https://localhost:8080/",
          "height": 102
        },
        "outputId": "cb7677e7-37a3-4439-c99f-a203e02687a0"
      },
      "source": [
        "#Logistic Regression\n",
        "from sklearn.linear_model import LogisticRegression\n",
        "log_reg = LogisticRegression()\n",
        "log_reg.fit(normalised_train_df, y_balanced)"
      ],
      "execution_count": 26,
      "outputs": [
        {
          "output_type": "execute_result",
          "data": {
            "text/plain": [
              "LogisticRegression(C=1.0, class_weight=None, dual=False, fit_intercept=True,\n",
              "                   intercept_scaling=1, l1_ratio=None, max_iter=100,\n",
              "                   multi_class='auto', n_jobs=None, penalty='l2',\n",
              "                   random_state=None, solver='lbfgs', tol=0.0001, verbose=0,\n",
              "                   warm_start=False)"
            ]
          },
          "metadata": {
            "tags": []
          },
          "execution_count": 26
        }
      ]
    },
    {
      "cell_type": "code",
      "metadata": {
        "id": "9h_WUAlzwAwG",
        "colab_type": "code",
        "colab": {
          "base_uri": "https://localhost:8080/",
          "height": 51
        },
        "outputId": "4101130d-3d13-47cb-eefe-9b72206760a3"
      },
      "source": [
        "#confusion matrix\n",
        "from sklearn.metrics import recall_score, accuracy_score, precision_score, f1_score, confusion_matrix\n",
        "new_predictions = log_reg.predict(normalised_test_df)\n",
        "cnf_mat = confusion_matrix(y_true=y_test, y_pred=new_predictions, labels=['2A', '3A'])\n",
        "cnf_mat"
      ],
      "execution_count": 27,
      "outputs": [
        {
          "output_type": "execute_result",
          "data": {
            "text/plain": [
              "array([[32, 41],\n",
              "       [49, 55]])"
            ]
          },
          "metadata": {
            "tags": []
          },
          "execution_count": 27
        }
      ]
    },
    {
      "cell_type": "code",
      "metadata": {
        "id": "F7cTL8umzV2Y",
        "colab_type": "code",
        "colab": {
          "base_uri": "https://localhost:8080/",
          "height": 34
        },
        "outputId": "3139dd73-b462-4c36-92e9-15c9f52e9271"
      },
      "source": [
        "#cross validation and accuracy\n",
        "from sklearn.model_selection import cross_val_score\n",
        "scores = cross_val_score(log_reg, normalised_train_df, y_balanced, cv=5, scoring='f1_macro')\n",
        "scores"
      ],
      "execution_count": 28,
      "outputs": [
        {
          "output_type": "execute_result",
          "data": {
            "text/plain": [
              "array([0.46442789, 0.52505869, 0.54076851, 0.60100219, 0.49953101])"
            ]
          },
          "metadata": {
            "tags": []
          },
          "execution_count": 28
        }
      ]
    },
    {
      "cell_type": "code",
      "metadata": {
        "id": "dPJU6xnuz56Q",
        "colab_type": "code",
        "colab": {
          "base_uri": "https://localhost:8080/",
          "height": 34
        },
        "outputId": "ba505d21-a36a-4f6d-eeb3-5fbcacb6c686"
      },
      "source": [
        "#accuracy\n",
        "accuracy = accuracy_score(y_true=y_test, y_pred=new_predictions)\n",
        "print('Accuracy: {}'.format(round(accuracy*100), 2))"
      ],
      "execution_count": 29,
      "outputs": [
        {
          "output_type": "stream",
          "text": [
            "Accuracy: 49.0\n"
          ],
          "name": "stdout"
        }
      ]
    },
    {
      "cell_type": "code",
      "metadata": {
        "id": "YAZRsto10CEc",
        "colab_type": "code",
        "colab": {
          "base_uri": "https://localhost:8080/",
          "height": 34
        },
        "outputId": "4d5d6f2c-1d61-45b0-f62d-bada987169b2"
      },
      "source": [
        "#precision\n",
        "precision = precision_score(y_true=y_test, y_pred=new_predictions, pos_label='2A')\n",
        "print('Precision: {}'.format(round(precision*100), 2))"
      ],
      "execution_count": 30,
      "outputs": [
        {
          "output_type": "stream",
          "text": [
            "Precision: 40.0\n"
          ],
          "name": "stdout"
        }
      ]
    },
    {
      "cell_type": "code",
      "metadata": {
        "id": "hh2ZjVUz0LPW",
        "colab_type": "code",
        "colab": {
          "base_uri": "https://localhost:8080/",
          "height": 34
        },
        "outputId": "f18d731d-d606-429b-c27b-fbd49f39b788"
      },
      "source": [
        "#recall\n",
        "recall = recall_score(y_true=y_test, y_pred=new_predictions, pos_label='2A')\n",
        "print('Recall: {}'.format(round(recall*100), 2))"
      ],
      "execution_count": 31,
      "outputs": [
        {
          "output_type": "stream",
          "text": [
            "Recall: 44.0\n"
          ],
          "name": "stdout"
        }
      ]
    },
    {
      "cell_type": "code",
      "metadata": {
        "id": "CuvhSWaY0Uc8",
        "colab_type": "code",
        "colab": {
          "base_uri": "https://localhost:8080/",
          "height": 34
        },
        "outputId": "a57aee64-ceac-482a-f5d0-febabf048a9d"
      },
      "source": [
        "#F1 score\n",
        "f1 = f1_score(y_true=y_test, y_pred=new_predictions, pos_label='2A')\n",
        "print('F1: {}'.format(round(f1*100), 2))"
      ],
      "execution_count": 32,
      "outputs": [
        {
          "output_type": "stream",
          "text": [
            "F1: 42.0\n"
          ],
          "name": "stdout"
        }
      ]
    },
    {
      "cell_type": "code",
      "metadata": {
        "id": "A9cHwchn0lob",
        "colab_type": "code",
        "colab": {}
      },
      "source": [
        "#K fold Cross Validation\n",
        "from sklearn.model_selection import KFold\n",
        "kf = KFold(n_splits=5)\n",
        "kf.split(normalised_train_df) \n",
        "f1_scores = []\n",
        "#run for every split\n",
        "for train_index, test_index in kf.split(normalised_train_df):\n",
        "  x_train, x_test = normalised_train_df.iloc[train_index], normalised_train_df.iloc[test_index]\n",
        "  y_train, y_test = y_balanced[train_index],y_balanced[test_index]\n",
        "  model = LogisticRegression().fit(x_train, y_train)\n",
        "  #save result to list\n",
        "  f1_scores.append(f1_score(y_true=y_test, y_pred=model.predict(x_test), \n",
        "                   pos_label='2A')*100)"
      ],
      "execution_count": 34,
      "outputs": []
    },
    {
      "cell_type": "code",
      "metadata": {
        "id": "NozYVjpA05kT",
        "colab_type": "code",
        "colab": {}
      },
      "source": [
        "#Stratified Kfold Cross Validation\n",
        "import numpy as np\n",
        "from sklearn.model_selection import StratifiedKFold\n",
        "skf = StratifiedKFold(n_splits=5, shuffle=True, random_state=1)\n",
        "f1_scores = []\n",
        "#run for every split\n",
        "for train_index, test_index in skf.split(normalised_train_df, y_balanced):\n",
        "  x_train, x_test = np.array(normalised_train_df)[train_index], np.array(normalised_train_df)[test_index]\n",
        "  y_train, y_test  = y_balanced[train_index], y_balanced[test_index]\n",
        "  model = LogisticRegression().fit(x_train, y_train)\n",
        "  #save result to list\n",
        "  f1_scores.append(f1_score(y_true=y_test, y_pred=model.predict(x_test), pos_label='2A'))"
      ],
      "execution_count": 36,
      "outputs": []
    },
    {
      "cell_type": "code",
      "metadata": {
        "id": "DFKLELil1ZNI",
        "colab_type": "code",
        "colab": {}
      },
      "source": [
        "#Leave One Out Cross Validation\n",
        "from sklearn.model_selection import LeaveOneOut\n",
        "loo = LeaveOneOut()\n",
        "scores = cross_val_score(LogisticRegression(), normalised_train_df, y_balanced, cv=loo, \n",
        "                         scoring='f1_macro')\n",
        "average_score = scores.mean() * 100"
      ],
      "execution_count": 37,
      "outputs": []
    },
    {
      "cell_type": "code",
      "metadata": {
        "id": "EPs2t7571ndS",
        "colab_type": "code",
        "colab": {
          "base_uri": "https://localhost:8080/",
          "height": 119
        },
        "outputId": "a2632d9b-4224-48c0-c19c-510874d60a6c"
      },
      "source": [
        "from sklearn.tree import DecisionTreeClassifier\n",
        "dec_tree = DecisionTreeClassifier()\n",
        "dec_tree.fit(normalised_train_df, y_balanced)"
      ],
      "execution_count": 38,
      "outputs": [
        {
          "output_type": "execute_result",
          "data": {
            "text/plain": [
              "DecisionTreeClassifier(ccp_alpha=0.0, class_weight=None, criterion='gini',\n",
              "                       max_depth=None, max_features=None, max_leaf_nodes=None,\n",
              "                       min_impurity_decrease=0.0, min_impurity_split=None,\n",
              "                       min_samples_leaf=1, min_samples_split=2,\n",
              "                       min_weight_fraction_leaf=0.0, presort='deprecated',\n",
              "                       random_state=None, splitter='best')"
            ]
          },
          "metadata": {
            "tags": []
          },
          "execution_count": 38
        }
      ]
    },
    {
      "cell_type": "code",
      "metadata": {
        "id": "sajEuSOg4lEE",
        "colab_type": "code",
        "colab": {}
      },
      "source": [
        ""
      ],
      "execution_count": null,
      "outputs": []
    }
  ]
}